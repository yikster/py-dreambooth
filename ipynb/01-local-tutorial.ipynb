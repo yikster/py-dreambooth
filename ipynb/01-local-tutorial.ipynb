{
 "cells": [
  {
   "cell_type": "code",
   "execution_count": null,
   "id": "021678ce-4224-4e3c-849f-14047092077e",
   "metadata": {},
   "outputs": [],
   "source": [
    "%load_ext autoreload\n",
    "%autoreload 2"
   ]
  },
  {
   "cell_type": "code",
   "execution_count": null,
   "id": "2b514aea-f747-453c-9b30-6c33d970a6f2",
   "metadata": {
    "tags": []
   },
   "outputs": [],
   "source": [
    "import boto3\n",
    "from py_dreambooth.dataset import LocalDataset\n",
    "from py_dreambooth.model import SdDreamboothModel\n",
    "from py_dreambooth.trainer import LocalTrainer\n",
    "from py_dreambooth.predictor import LocalPredictor\n",
    "from py_dreambooth.utils.image_helpers import display_images\n",
    "from py_dreambooth.utils.prompt_helpers import make_prompt"
   ]
  },
  {
   "cell_type": "code",
   "execution_count": null,
   "id": "39413c84-4909-4d7e-bc6f-e4929889790c",
   "metadata": {
    "tags": []
   },
   "outputs": [],
   "source": [
    "DATA_DIR = \"data\"\n",
    "OUTPUT_DIR = \"models\"\n",
    "\n",
    "dataset = LocalDataset(DATA_DIR)\n",
    "\n",
    "# dataset = dataset.download_examples()\n",
    "dataset = dataset.preprocess_images(detect_face=True)"
   ]
  },
  {
   "cell_type": "code",
   "execution_count": null,
   "id": "151d05e7-5acb-4a53-9dff-b21e6f244b69",
   "metadata": {
    "tags": []
   },
   "outputs": [],
   "source": [
    "SUBJECT_NAME = \"<YOUR-NAME>\"\n",
    "CLASS_NAME = \"person\"\n",
    "\n",
    "model = SdDreamboothModel(\n",
    "    subject_name=SUBJECT_NAME, \n",
    "    class_name=CLASS_NAME, \n",
    "    seed=42, \n",
    "    max_train_steps=1000,\n",
    ")\n",
    "\n",
    "trainer = LocalTrainer(output_dir=OUTPUT_DIR)"
   ]
  },
  {
   "cell_type": "code",
   "execution_count": null,
   "id": "85bacd28-e07e-4a05-bf5f-b60796568636",
   "metadata": {},
   "outputs": [],
   "source": [
    "%%time\n",
    "predictor = trainer.fit(model, dataset)"
   ]
  },
  {
   "cell_type": "code",
   "execution_count": null,
   "id": "3b27d3a4-d608-4c64-8d9c-28dd4e5326d1",
   "metadata": {},
   "outputs": [],
   "source": [
    "%%time\n",
    "prompt = f\"A photo of {SUBJECT_NAME} {CLASS_NAME} with Eiffel Tower in the background\"\n",
    "# prompt = next(make_prompt(SUBJECT_NAME, CLASS_NAME))\n",
    "\n",
    "print(f\"The prompt is as follows:\\n{prompt}\")\n",
    "\n",
    "images = predictor.predict(\n",
    "    prompt, height=768, width=512, num_images_per_prompt=2, seed=42\n",
    ")\n",
    "\n",
    "display_images(images, fig_size=10)"
   ]
  }
 ],
 "metadata": {
  "kernelspec": {
   "display_name": "Python 3 (ipykernel)",
   "language": "python",
   "name": "python3"
  },
  "language_info": {
   "codemirror_mode": {
    "name": "ipython",
    "version": 3
   },
   "file_extension": ".py",
   "mimetype": "text/x-python",
   "name": "python",
   "nbconvert_exporter": "python",
   "pygments_lexer": "ipython3",
   "version": "3.10.12"
  }
 },
 "nbformat": 4,
 "nbformat_minor": 5
}
