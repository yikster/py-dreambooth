{
 "cells": [
  {
   "cell_type": "code",
   "execution_count": null,
   "id": "53811d2a-9013-4de2-8cd8-1ab80bccf133",
   "metadata": {
    "tags": []
   },
   "outputs": [],
   "source": [
    "%load_ext autoreload\n",
    "%autoreload 2"
   ]
  },
  {
   "cell_type": "code",
   "execution_count": null,
   "id": "4ceea878-1858-41ae-bbc2-d41be276ab40",
   "metadata": {
    "tags": []
   },
   "outputs": [],
   "source": [
    "import boto3\n",
    "from py_dreambooth.dataset import AWSDataset\n",
    "from py_dreambooth.model import SdxlDreamboothLoraModel\n",
    "from py_dreambooth.trainer import AWSTrainer\n",
    "from py_dreambooth.utils.image_helpers import display_images\n",
    "from py_dreambooth.utils.prompt_helpers import make_prompt"
   ]
  },
  {
   "cell_type": "code",
   "execution_count": null,
   "id": "7e2e17af-b416-4be1-a07f-7db6c4e24410",
   "metadata": {
    "tags": []
   },
   "outputs": [],
   "source": [
    "DATA_DIR = \"data\"\n",
    "\n",
    "boto_session = boto3.Session()\n",
    "dataset = AWSDataset(DATA_DIR, boto_session)"
   ]
  },
  {
   "cell_type": "code",
   "execution_count": null,
   "outputs": [],
   "source": [
    "dataset = dataset.preprocess_images(detect_face=True)\n",
    "dataset = dataset.upload_images()"
   ],
   "metadata": {
    "collapsed": false
   },
   "id": "43780fef67ed87a8"
  },
  {
   "cell_type": "code",
   "execution_count": null,
   "id": "52ed850d-1d56-4369-80f0-bebcab0e3adb",
   "metadata": {
    "tags": []
   },
   "outputs": [],
   "source": [
    "SUBJECT_NAME = \"<YOUR-NAME>\"\n",
    "CLASS_NAME = \"person\"\n",
    "\n",
    "model = SdxlDreamboothLoraModel(\n",
    "    subject_name=SUBJECT_NAME, \n",
    "    class_name=CLASS_NAME, \n",
    "    seed=42, \n",
    "    max_train_steps=1200,\n",
    ")\n",
    "\n",
    "trainer = AWSTrainer(\n",
    "    report_to=\"wandb\",\n",
    "    wandb_api_key=\"<YOUR-WANDB-API-KEY>\",\n",
    "    sm_train_instance_type=\"ml.g5.2xlarge\",\n",
    "    sm_infer_instance_type=\"ml.g4dn.2xlarge\",\n",
    ")"
   ]
  },
  {
   "cell_type": "code",
   "execution_count": null,
   "id": "173ed0c9-00f6-4b48-9324-5deaedcfc47a",
   "metadata": {
    "tags": []
   },
   "outputs": [],
   "source": [
    "%%time\n",
    "predictor = trainer.fit(model, dataset)"
   ]
  },
  {
   "cell_type": "code",
   "execution_count": null,
   "id": "6c5ec891-6f71-4a26-8e90-5b0884ed4f8b",
   "metadata": {
    "tags": []
   },
   "outputs": [],
   "source": [
    "%%time\n",
    "prompt = f\"A photo of {SUBJECT_NAME} {CLASS_NAME} with Eiffel Tower in the background\"\n",
    "# prompt = next(make_prompt(SUBJECT_NAME, CLASS_NAME))\n",
    "\n",
    "print(f\"The prompt is as follows:\\n{prompt}\")\n",
    "\n",
    "images = predictor.predict(\n",
    "    prompt, height=768, width=512, num_images_per_prompt=2, seed=42\n",
    ")\n",
    "\n",
    "display_images(images, fig_size=10)"
   ]
  },
  {
   "cell_type": "code",
   "execution_count": null,
   "id": "791984fc-4fa9-48b7-95c6-5b1c1264c4b0",
   "metadata": {
    "tags": []
   },
   "outputs": [],
   "source": [
    "predictor.delete_endpoint()"
   ]
  }
 ],
 "metadata": {
  "kernelspec": {
   "display_name": "Python 3 (ipykernel)",
   "language": "python",
   "name": "python3"
  },
  "language_info": {
   "codemirror_mode": {
    "name": "ipython",
    "version": 3
   },
   "file_extension": ".py",
   "mimetype": "text/x-python",
   "name": "python",
   "nbconvert_exporter": "python",
   "pygments_lexer": "ipython3",
   "version": "3.10.12"
  }
 },
 "nbformat": 4,
 "nbformat_minor": 5
}
